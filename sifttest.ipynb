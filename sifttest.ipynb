{
 "cells": [
  {
   "cell_type": "code",
   "execution_count": 3,
   "metadata": {},
   "outputs": [],
   "source": [
    "import cv2\n",
    "import numpy as np\n",
    "import os\n",
    "from tensorflow.keras.utils import to_categorical\n",
    "from sklearn.preprocessing import LabelEncoder\n"
   ]
  },
  {
   "cell_type": "code",
   "execution_count": 4,
   "metadata": {},
   "outputs": [],
   "source": [
    "def load_data(df):\n",
    "    # SIFT 특징 추출기를 생성합니다.\n",
    "    sift = cv2.xfeatures2d.SIFT_create()\n",
    "    \n",
    "    data = []\n",
    "    labels = []\n",
    "    for index, row in df.iterrows():\n",
    "        # 이미지를 읽어옵니다.\n",
    "        img = cv2.imread(row['Filepath'], cv2.IMREAD_GRAYSCALE)\n",
    "\n",
    "        # SIFT를 사용하여 이미지에서 특징을 추출합니다.\n",
    "        _, descriptors = sift.detectAndCompute(img, None)\n",
    "\n",
    "        # 이미지의 SIFT 특징을 128차원 벡터로 표현합니다.\n",
    "        # 여기서는 각 이미지의 첫 번째 SIFT 특징만 사용합니다. 더 많은 특징을 사용하려면 이 부분을 수정하면 됩니다.\n",
    "        features = descriptors[0]\n",
    "\n",
    "        data.append(features)\n",
    "        labels.append(row['Label'])\n",
    "    \n",
    "    return np.array(data), np.array(labels)"
   ]
  },
  {
   "cell_type": "code",
   "execution_count": null,
   "metadata": {},
   "outputs": [],
   "source": []
  }
 ],
 "metadata": {
  "kernelspec": {
   "display_name": "dogs",
   "language": "python",
   "name": "python3"
  },
  "language_info": {
   "codemirror_mode": {
    "name": "ipython",
    "version": 3
   },
   "file_extension": ".py",
   "mimetype": "text/x-python",
   "name": "python",
   "nbconvert_exporter": "python",
   "pygments_lexer": "ipython3",
   "version": "3.10.8"
  },
  "orig_nbformat": 4
 },
 "nbformat": 4,
 "nbformat_minor": 2
}
