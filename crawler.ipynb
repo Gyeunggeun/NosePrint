{
 "cells": [
  {
   "cell_type": "code",
   "execution_count": 18,
   "metadata": {},
   "outputs": [],
   "source": [
    "# 인스타그램 크롤링\n",
    "# 1. 인스타그램 로그인\n",
    "# 2. 인스타그램 검색\n",
    "# 3. 인스타그램 사진 수집\n",
    "# 4. 인스타그램 사진 저장\n",
    "# 패키지 import\n",
    "#작업에 필요한 라이브러리 \n",
    "from selenium import webdriver \n",
    "from selenium.webdriver import ActionChains\n",
    "from selenium.webdriver.common.keys import Keys\n",
    "import time"
   ]
  },
  {
   "cell_type": "code",
   "execution_count": 21,
   "metadata": {},
   "outputs": [],
   "source": [
    "#01. 웹 열기\n",
    "dr = webdriver.Chrome() #웹드라이버로 크롬 웹 켜기\n",
    "dr.set_window_size(414, 800) \t#브라우저 크기 414*800으로 고정\n",
    "dr.get('https://www.instagram.com/') #인스타그램 웹 켜기\n",
    "time.sleep(2) \t#2초 대기   "
   ]
  },
  {
   "cell_type": "code",
   "execution_count": 23,
   "metadata": {},
   "outputs": [
    {
     "ename": "AttributeError",
     "evalue": "'WebDriver' object has no attribute 'find_element_by_css_selector'",
     "output_type": "error",
     "traceback": [
      "\u001b[1;31m---------------------------------------------------------------------------\u001b[0m",
      "\u001b[1;31mAttributeError\u001b[0m                            Traceback (most recent call last)",
      "Cell \u001b[1;32mIn[23], line 3\u001b[0m\n\u001b[0;32m      1\u001b[0m \u001b[39m# 02. 로그인\u001b[39;00m\n\u001b[0;32m      2\u001b[0m \u001b[39m#경로 지정\u001b[39;00m\n\u001b[1;32m----> 3\u001b[0m id_box \u001b[39m=\u001b[39m dr\u001b[39m.\u001b[39;49mfind_element_by_css_selector(\u001b[39m\"\u001b[39m\u001b[39m#loginForm > div > div:nth-child(1) > div > label > input\u001b[39m\u001b[39m\"\u001b[39m)   \u001b[39m#아이디 입력창\u001b[39;00m\n\u001b[0;32m      4\u001b[0m password_box \u001b[39m=\u001b[39m dr\u001b[39m.\u001b[39mfind_element_by_css_selector(\u001b[39m\"\u001b[39m\u001b[39m#loginForm > div > div:nth-child(2) > div > label > input\u001b[39m\u001b[39m\"\u001b[39m)     \u001b[39m#비밀번호 입력창\u001b[39;00m\n\u001b[0;32m      5\u001b[0m login_button \u001b[39m=\u001b[39m dr\u001b[39m.\u001b[39mfind_element_by_css_selector(\u001b[39m'\u001b[39m\u001b[39m#loginForm > div > div:nth-child(3) > button\u001b[39m\u001b[39m'\u001b[39m)      \u001b[39m#로그인 버튼\u001b[39;00m\n",
      "\u001b[1;31mAttributeError\u001b[0m: 'WebDriver' object has no attribute 'find_element_by_css_selector'"
     ]
    }
   ],
   "source": [
    "# 02. 로그인\n",
    "#경로 지정\n",
    "id_box = dr.find_element_by_css_selector(\"#loginForm > div > div:nth-child(1) > div > label > input\")   #아이디 입력창\n",
    "password_box = dr.find_element_by_css_selector(\"#loginForm > div > div:nth-child(2) > div > label > input\")     #비밀번호 입력창\n",
    "login_button = dr.find_element_by_css_selector('#loginForm > div > div:nth-child(3) > button')      #로그인 버튼\n",
    "\n",
    "#동작 제어\n",
    "act = ActionChains(dr)      #동작 명령어 지정\n",
    "act.send_keys_to_element(id_box, '아이디').send_keys_to_element(password_box, '비밀번호').click(login_button).perform()     #아이디 입력, 비밀 번호 입력, 로그인 버튼 클릭 수행\n",
    "time.sleep(2)"
   ]
  },
  {
   "cell_type": "code",
   "execution_count": null,
   "metadata": {},
   "outputs": [],
   "source": [
    "# 로그인 정보 저장 여부 (\"나중에 하기 버튼 클릭\")\n",
    "btn_later1 = driver.find_element_by_class_name('_acan._acao._acas')\n",
    "btn_later1.click()\n",
    "time.sleep(5)\n",
    "\n",
    "# 알림 설정 (\"나중에 하기 버튼 클릭\")\n",
    "btn_later2 = driver.find_element_by_class_name('_a9--._a9_1')\n",
    "btn_later2.click()"
   ]
  }
 ],
 "metadata": {
  "kernelspec": {
   "display_name": "dogs",
   "language": "python",
   "name": "python3"
  },
  "language_info": {
   "codemirror_mode": {
    "name": "ipython",
    "version": 3
   },
   "file_extension": ".py",
   "mimetype": "text/x-python",
   "name": "python",
   "nbconvert_exporter": "python",
   "pygments_lexer": "ipython3",
   "version": "3.10.8"
  },
  "orig_nbformat": 4
 },
 "nbformat": 4,
 "nbformat_minor": 2
}
