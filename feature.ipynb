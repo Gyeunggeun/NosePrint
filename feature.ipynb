{
 "cells": [
  {
   "cell_type": "code",
   "execution_count": 1,
   "metadata": {},
   "outputs": [],
   "source": [
    "import seaborn as sns\n",
    "import pandas as pd\n",
    "import plotly.express as px"
   ]
  },
  {
   "cell_type": "code",
   "execution_count": 5,
   "metadata": {},
   "outputs": [
    {
     "data": {
      "text/html": [
       "<div>\n",
       "<style scoped>\n",
       "    .dataframe tbody tr th:only-of-type {\n",
       "        vertical-align: middle;\n",
       "    }\n",
       "\n",
       "    .dataframe tbody tr th {\n",
       "        vertical-align: top;\n",
       "    }\n",
       "\n",
       "    .dataframe thead th {\n",
       "        text-align: right;\n",
       "    }\n",
       "</style>\n",
       "<table border=\"1\" class=\"dataframe\">\n",
       "  <thead>\n",
       "    <tr style=\"text-align: right;\">\n",
       "      <th></th>\n",
       "      <th>No.</th>\n",
       "      <th>Data Augmentation</th>\n",
       "      <th>Learning Rate Scheduler</th>\n",
       "      <th>Warmup</th>\n",
       "      <th>F1</th>\n",
       "      <th>Accuracy</th>\n",
       "      <th>기타</th>\n",
       "    </tr>\n",
       "  </thead>\n",
       "  <tbody>\n",
       "    <tr>\n",
       "      <th>0</th>\n",
       "      <td>1</td>\n",
       "      <td>수동으로 Resize만 적용</td>\n",
       "      <td>X</td>\n",
       "      <td>X</td>\n",
       "      <td>0.515</td>\n",
       "      <td>0.528</td>\n",
       "      <td>NaN</td>\n",
       "    </tr>\n",
       "    <tr>\n",
       "      <th>1</th>\n",
       "      <td>2</td>\n",
       "      <td>ImageDataGenerator 적용, class별 기존 이미지의 30배</td>\n",
       "      <td>epoch &lt; 30 일때 0.001 30&lt; epoch &lt; 100일때 0.0001</td>\n",
       "      <td>10</td>\n",
       "      <td>0.733</td>\n",
       "      <td>0.769</td>\n",
       "      <td>NaN</td>\n",
       "    </tr>\n",
       "    <tr>\n",
       "      <th>2</th>\n",
       "      <td>3</td>\n",
       "      <td>ImageDataGenerator 적용, class별 기존 이미지의 30배</td>\n",
       "      <td>epoch &lt; 30 일때 0.001 30&lt; epoch &lt; 100일때 0.0001</td>\n",
       "      <td>5</td>\n",
       "      <td>0.810</td>\n",
       "      <td>0.802</td>\n",
       "      <td>BatchNormalization 적용</td>\n",
       "    </tr>\n",
       "    <tr>\n",
       "      <th>3</th>\n",
       "      <td>4</td>\n",
       "      <td>ImageDataGenerator 적용, class별 기존 이미지의 30배</td>\n",
       "      <td>CosineDecay 적용 learning rate가 감소했다가 다시 늘어나는 과정 반복</td>\n",
       "      <td>5</td>\n",
       "      <td>0.823</td>\n",
       "      <td>0.815</td>\n",
       "      <td>NaN</td>\n",
       "    </tr>\n",
       "    <tr>\n",
       "      <th>4</th>\n",
       "      <td>5</td>\n",
       "      <td>ImageDataGenerator + 추가 증강, class별 기존 이미지의 150배</td>\n",
       "      <td>CosineDecay 적용 lr 최적화 (initial : 1e^-2, decay ...</td>\n",
       "      <td>3</td>\n",
       "      <td>0.863</td>\n",
       "      <td>0.856</td>\n",
       "      <td>Earlystopping 정의</td>\n",
       "    </tr>\n",
       "  </tbody>\n",
       "</table>\n",
       "</div>"
      ],
      "text/plain": [
       "   No.                                Data Augmentation  \\\n",
       "0    1                                  수동으로 Resize만 적용   \n",
       "1    2        ImageDataGenerator 적용, class별 기존 이미지의 30배   \n",
       "2    3        ImageDataGenerator 적용, class별 기존 이미지의 30배   \n",
       "3    4        ImageDataGenerator 적용, class별 기존 이미지의 30배   \n",
       "4    5  ImageDataGenerator + 추가 증강, class별 기존 이미지의 150배   \n",
       "\n",
       "                             Learning Rate Scheduler Warmup     F1  Accuracy  \\\n",
       "0                                                  X      X  0.515     0.528   \n",
       "1       epoch < 30 일때 0.001 30< epoch < 100일때 0.0001     10  0.733     0.769   \n",
       "2       epoch < 30 일때 0.001 30< epoch < 100일때 0.0001      5  0.810     0.802   \n",
       "3  CosineDecay 적용 learning rate가 감소했다가 다시 늘어나는 과정 반복      5  0.823     0.815   \n",
       "4  CosineDecay 적용 lr 최적화 (initial : 1e^-2, decay ...      3  0.863     0.856   \n",
       "\n",
       "                      기타  \n",
       "0                    NaN  \n",
       "1                    NaN  \n",
       "2  BatchNormalization 적용  \n",
       "3                    NaN  \n",
       "4       Earlystopping 정의  "
      ]
     },
     "execution_count": 5,
     "metadata": {},
     "output_type": "execute_result"
    }
   ],
   "source": [
    "df = pd.read_csv('feature.csv')\n",
    "df.head()"
   ]
  },
  {
   "cell_type": "code",
   "execution_count": null,
   "metadata": {},
   "outputs": [],
   "source": []
  }
 ],
 "metadata": {
  "kernelspec": {
   "display_name": "dogs",
   "language": "python",
   "name": "python3"
  },
  "language_info": {
   "codemirror_mode": {
    "name": "ipython",
    "version": 3
   },
   "file_extension": ".py",
   "mimetype": "text/x-python",
   "name": "python",
   "nbconvert_exporter": "python",
   "pygments_lexer": "ipython3",
   "version": "3.10.8"
  },
  "orig_nbformat": 4
 },
 "nbformat": 4,
 "nbformat_minor": 2
}
