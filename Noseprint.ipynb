{
 "cells": [
  {
   "cell_type": "code",
   "execution_count": 1,
   "metadata": {
    "collapsed": true,
    "ExecuteTime": {
     "end_time": "2023-05-07T14:30:00.822041300Z",
     "start_time": "2023-05-07T14:29:51.747010800Z"
    }
   },
   "outputs": [],
   "source": [
    "# 강아지를 비문으로 인식할 수 있는 다중 분류 딥러닝 모델\n",
    "# 패키지 불러오기\n",
    "import pandas as pd\n",
    "import numpy as np\n",
    "import random as rd\n",
    "import cv2, os\n",
    "\n",
    "from sklearn.model_selection import train_test_split\n",
    "from sklearn.metrics import *\n",
    "\n",
    "from keras.models import Sequential\n",
    "from keras.layers import Dense, Flatten, Conv2D, MaxPooling2D\n",
    "from keras.backend import clear_session\n",
    "from keras.optimizers import Adam\n",
    "from keras.datasets import mnist, fashion_mnist\n",
    "import glob"
   ]
  },
  {
   "cell_type": "code",
   "execution_count": 2,
   "outputs": [],
   "source": [
    "# 데이터 불러오기\n",
    "DATA_PATH = 'D:\\\\Dog\\\\noseprints\\\\data\\\\images'"
   ],
   "metadata": {
    "collapsed": false,
    "ExecuteTime": {
     "end_time": "2023-05-07T14:30:00.835562100Z",
     "start_time": "2023-05-07T14:30:00.823039200Z"
    }
   }
  },
  {
   "cell_type": "code",
   "execution_count": 3,
   "outputs": [],
   "source": [
    "# json 파일 불러오기\n",
    "import os\n",
    "\n",
    "json_files = []\n",
    "\n",
    "for i in range(1, 25):\n",
    "    if i not in [21, 23]:\n",
    "        json_file = f\"D:\\\\Dog\\\\noseprints\\\\data\\\\a{i:03d}.json\"\n",
    "        json_files.append(json_file)"
   ],
   "metadata": {
    "collapsed": false,
    "ExecuteTime": {
     "end_time": "2023-05-07T14:30:00.864270100Z",
     "start_time": "2023-05-07T14:30:00.838067700Z"
    }
   }
  },
  {
   "cell_type": "code",
   "execution_count": 13,
   "outputs": [],
   "source": [
    "import json\n",
    "import os\n",
    "\n",
    "# JSON 파일 범위 지정\n",
    "json_range = list(range(1, 25))\n",
    "json_range.remove(21)  # a021.json 제외\n",
    "json_range.remove(23)  # a023.json 제외\n",
    "\n",
    "base_path = \"D:/Dog/noseprints/data\" # base_path를 현재 작업물이 있는 폴더로 지정\n",
    "\n",
    "for i in json_range:\n",
    "    input_file = os.path.join(base_path, f\"a{i:03d}.json\")\n",
    "\n",
    "    # JSON 파일 읽기\n",
    "    with open(input_file, 'r', encoding='utf-8') as file:\n",
    "        data = json.load(file)\n",
    "\n",
    "    # \"file_name\" 필드 수정\n",
    "    for image in data[\"images\"]:\n",
    "        image_id = image[\"id\"]\n",
    "        new_file_name = f\"a{i:03d}_{image_id}.jpg\"\n",
    "        image[\"file_name\"] = new_file_name\n",
    "\n",
    "    # 변경된 내용을 파일에 다시 저장\n",
    "    output_file = input_file\n",
    "    with open(output_file, 'w', encoding='utf-8') as file:\n",
    "        json.dump(data, file, ensure_ascii=False, indent=4)"
   ],
   "metadata": {
    "collapsed": false,
    "ExecuteTime": {
     "end_time": "2023-05-07T16:08:19.917925Z",
     "start_time": "2023-05-07T16:08:19.881540600Z"
    }
   }
  },
  {
   "cell_type": "code",
   "execution_count": 14,
   "outputs": [],
   "source": [
    "import json\n",
    "merged_data = []\n",
    "\n",
    "# 각 json 파일을 읽고 병합\n",
    "for json_file in json_files:\n",
    "    with open(json_file, 'r', encoding='utf-8') as file:\n",
    "        data = json.load(file)\n",
    "        merged_data.append(data)\n",
    "\n",
    "output_path = \"D:\\\\Dog\\\\noseprints\\\\data\"\n",
    "os.makedirs(output_path, exist_ok=True)\n",
    "\n",
    "# 병합된 데이터를 D:\\Dog\\noseprints\\data\\labels\\label.json 파일에 저장\n",
    "output_file = os.path.join(output_path, \"label.json\")\n",
    "with open(output_file, 'w', encoding='utf-8') as outfile:\n",
    "    json.dump(merged_data, outfile, ensure_ascii=False, indent=4)"
   ],
   "metadata": {
    "collapsed": false,
    "ExecuteTime": {
     "end_time": "2023-05-07T16:09:09.483412400Z",
     "start_time": "2023-05-07T16:09:09.447755700Z"
    }
   }
  },
  {
   "cell_type": "code",
   "execution_count": 19,
   "outputs": [
    {
     "name": "stdout",
     "output_type": "stream",
     "text": [
      "COCO Parsing Result : False, msg : ERROR : list indices must be integers or slices, not str, moreInfo : <class 'TypeError'>\tFormat.py\t322\n",
      "\n",
      "\n"
     ]
    }
   ],
   "source": [
    "# python D:\\\\Dog\\\\convert2Yolo\\\\example.py --datasets COCO --img_path D:\\\\Dog\\\\noseprints\\\\data\\\\a004 --label D:\\\\Dog\\\\noseprints\\\\data\\\\a004.json --convert_output_path D:\\\\Dog\\\\noseprints\\\\data\\\\labels --img_type .jpg --manifest_path D:\\\\Dog\\\\noseprints\\\\ --cls_list_file D:\\\\Dog\\\\noseprints\\\\class1.names\n",
    "import subprocess\n",
    "\n",
    "command = \"python D:\\\\Dog\\\\convert2Yolo\\\\example.py --datasets COCO --img_path D:\\\\Dog\\\\noseprints\\\\data\\\\images --label D:\\\\Dog\\\\noseprints\\\\data\\\\label.json --convert_output_path D:\\\\Dog\\\\noseprints\\\\data\\\\labels --manifest_path D:\\\\Dog\\\\noseprints\\\\ --cls_list_file D:\\\\Dog\\\\noseprints\\\\class.names\"\n",
    "\n",
    "result = subprocess.run(command, stdout=subprocess.PIPE, stderr=subprocess.PIPE, shell=True, text=True)\n",
    "\n",
    "print(result.stdout)\n",
    "print(result.stderr)"
   ],
   "metadata": {
    "collapsed": false,
    "ExecuteTime": {
     "end_time": "2023-05-07T16:57:50.426741300Z",
     "start_time": "2023-05-07T16:57:50.173695Z"
    }
   }
  },
  {
   "cell_type": "code",
   "execution_count": null,
   "outputs": [],
   "source": [],
   "metadata": {
    "collapsed": false
   }
  }
 ],
 "metadata": {
  "kernelspec": {
   "display_name": "Python 3",
   "language": "python",
   "name": "python3"
  },
  "language_info": {
   "codemirror_mode": {
    "name": "ipython",
    "version": 2
   },
   "file_extension": ".py",
   "mimetype": "text/x-python",
   "name": "python",
   "nbconvert_exporter": "python",
   "pygments_lexer": "ipython2",
   "version": "2.7.6"
  }
 },
 "nbformat": 4,
 "nbformat_minor": 0
}
