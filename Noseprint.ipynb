{
 "cells": [
  {
   "cell_type": "code",
   "execution_count": 2,
   "metadata": {
    "collapsed": true,
    "ExecuteTime": {
     "end_time": "2023-05-06T18:03:19.411908300Z",
     "start_time": "2023-05-06T18:03:15.670020Z"
    }
   },
   "outputs": [],
   "source": [
    "# 강아지를 비문으로 인식할 수 있는 다중 분류 딥러닝 모델\n",
    "# 패키지 불러오기\n",
    "import pandas as pd\n",
    "import numpy as np\n",
    "import random as rd\n",
    "import cv2, os\n",
    "\n",
    "from sklearn.model_selection import train_test_split\n",
    "from sklearn.metrics import *\n",
    "\n",
    "from keras.models import Sequential\n",
    "from keras.layers import Dense, Flatten, Conv2D, MaxPooling2D\n",
    "from keras.backend import clear_session\n",
    "from keras.optimizers import Adam\n",
    "from keras.datasets import mnist, fashion_mnist\n",
    "import glob"
   ]
  },
  {
   "cell_type": "code",
   "execution_count": 3,
   "outputs": [],
   "source": [
    "# 데이터 불러오기\n",
    "DATA_PATH = 'D:\\\\Dog\\\\noseprints\\\\data\\\\images'"
   ],
   "metadata": {
    "collapsed": false,
    "ExecuteTime": {
     "end_time": "2023-05-06T18:03:19.427831300Z",
     "start_time": "2023-05-06T18:03:19.412905100Z"
    }
   }
  },
  {
   "cell_type": "code",
   "execution_count": 4,
   "outputs": [],
   "source": [
    "# json 파일 불러오기\n",
    "import os\n",
    "\n",
    "json_files = []\n",
    "\n",
    "for i in range(1, 25):\n",
    "    if i not in [21, 23]:\n",
    "        json_file = f\"D:\\\\Dog\\\\noseprints\\\\data\\\\a{i:03d}.json\"\n",
    "        json_files.append(json_file)"
   ],
   "metadata": {
    "collapsed": false,
    "ExecuteTime": {
     "end_time": "2023-05-06T18:03:19.446062100Z",
     "start_time": "2023-05-06T18:03:15.659556500Z"
    }
   }
  },
  {
   "cell_type": "code",
   "execution_count": 14,
   "outputs": [],
   "source": [
    "# python D:\\\\Dog\\\\convert2Yolo\\\\example.py --datasets COCO --img_path D:\\\\Dog\\\\noseprints\\\\data\\\\a004 --label D:\\\\Dog\\\\noseprints\\\\data\\\\a004.json --convert_output_path D:\\\\Dog\\\\noseprints\\\\data\\\\labels --img_type .jpg --manifest_path D:\\\\Dog\\\\noseprints\\\\ --cls_list_file D:\\\\Dog\\\\noseprints\\\\class1.names\n",
    "import subprocess\n",
    "\n",
    "command = \"python D:\\\\Dog\\\\convert2Yolo\\\\example.py --datasets COCO --img_path D:\\\\Dog\\\\noseprints\\\\data\\\\a002 --label D:\\\\Dog\\\\noseprints\\\\data\\\\a002.json --convert_output_path D:\\\\Dog\\\\noseprints\\\\data\\\\labels --img_type .jpg --manifest_path D:\\\\Dog\\\\noseprints\\\\ --cls_list_file D:\\\\Dog\\\\noseprints\\\\class1.names\"\n",
    "\n",
    "result = subprocess.run(command, stdout=subprocess.PIPE, stderr=subprocess.PIPE, shell=True, text=True)\n",
    "\n",
    "print(result.stdout)\n",
    "print(result.stderr)"
   ],
   "metadata": {
    "collapsed": false
   }
  },
  {
   "cell_type": "code",
   "execution_count": null,
   "outputs": [],
   "source": [],
   "metadata": {
    "collapsed": false
   }
  }
 ],
 "metadata": {
  "kernelspec": {
   "display_name": "Python 3",
   "language": "python",
   "name": "python3"
  },
  "language_info": {
   "codemirror_mode": {
    "name": "ipython",
    "version": 2
   },
   "file_extension": ".py",
   "mimetype": "text/x-python",
   "name": "python",
   "nbconvert_exporter": "python",
   "pygments_lexer": "ipython2",
   "version": "2.7.6"
  }
 },
 "nbformat": 4,
 "nbformat_minor": 0
}
