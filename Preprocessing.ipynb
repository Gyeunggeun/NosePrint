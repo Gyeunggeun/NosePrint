{
 "cells": [
  {
   "cell_type": "code",
   "execution_count": 2,
   "metadata": {
    "collapsed": true
   },
   "outputs": [],
   "source": [
    "# 파일 위치 이동하는 코드\n",
    "# 패키지 import\n",
    "import os\n",
    "import shutil\n",
    "from pathlib import Path"
   ]
  },
  {
   "cell_type": "code",
   "execution_count": 4,
   "metadata": {},
   "outputs": [],
   "source": [
    "# a026, a027, a028, b001~b286 파일의 사진들을 noseprints\\data\\images로 옮기기\n",
    "\n",
    "# 원본 이미지 폴더의 리스트\n",
    "source_dirs = [f'noseprints/data/images/a{str(i).zfill(3)}' for i in range(26, 29)] + [f'noseprints/data/images/b{str(i).zfill(3)}' for i in range(1, 287)]\n",
    "\n",
    "# 대상 이미지 폴더\n",
    "target_dir = 'noseprints/data/images'\n",
    "\n",
    "# 원본 폴더에서 모든 이미지 파일을 대상 폴더로 옮깁니다.\n",
    "for dir in source_dirs:\n",
    "    # 폴더가 존재하는 경우에만 진행합니다.\n",
    "    if os.path.exists(dir):\n",
    "        for file in os.listdir(dir):\n",
    "            # 파일의 확장자를 검사해서 이미지 파일인 경우에만 옮깁니다.\n",
    "            if file.endswith('.jpg') or file.endswith('.png'):\n",
    "                source_path = os.path.join(dir, file)\n",
    "                target_path = os.path.join(target_dir, file)\n",
    "\n",
    "                # 파일을 대상 폴더로 복사합니다.\n",
    "                # 파일이 이미 존재하는 경우에는 덮어씁니다.\n",
    "                shutil.copy2(source_path, target_path)"
   ]
  },
  {
   "cell_type": "code",
   "execution_count": null,
   "metadata": {},
   "outputs": [],
   "source": []
  }
 ],
 "metadata": {
  "kernelspec": {
   "display_name": "Python 3",
   "language": "python",
   "name": "python3"
  },
  "language_info": {
   "codemirror_mode": {
    "name": "ipython",
    "version": 3
   },
   "file_extension": ".py",
   "mimetype": "text/x-python",
   "name": "python",
   "nbconvert_exporter": "python",
   "pygments_lexer": "ipython3",
   "version": "3.10.8"
  }
 },
 "nbformat": 4,
 "nbformat_minor": 0
}
